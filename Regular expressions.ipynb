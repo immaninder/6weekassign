{
 "cells": [
  {
   "cell_type": "code",
   "execution_count": 29,
   "id": "c2154476-21a8-4598-a086-0c5c0c202870",
   "metadata": {},
   "outputs": [],
   "source": [
    "import regex"
   ]
  },
  {
   "cell_type": "code",
   "execution_count": 30,
   "id": "ad8e3b1a-7fa8-4457-a4eb-c04a8c61709d",
   "metadata": {},
   "outputs": [],
   "source": [
    "patt='[a-zA-Z0-9._]+@[a-zA-Z0-9]+.[a-z]{2,6}'"
   ]
  },
  {
   "cell_type": "code",
   "execution_count": 31,
   "id": "a4296da6-d040-45c2-b503-d7d4aa4822c4",
   "metadata": {},
   "outputs": [],
   "source": [
    "str='manindersinghofficial235@gmail.com and gill16@gmail.com'"
   ]
  },
  {
   "cell_type": "code",
   "execution_count": 32,
   "id": "5f041c82-469d-498f-b75c-96463b7ab710",
   "metadata": {},
   "outputs": [
    {
     "data": {
      "text/plain": [
       "['manindersinghofficial235@gmail.com', 'gill16@gmail.com']"
      ]
     },
     "execution_count": 32,
     "metadata": {},
     "output_type": "execute_result"
    }
   ],
   "source": [
    "regex.findall(pattern='[a-zA-Z0-9._]+@[a-zA-Z0-9]+.[a-z]{2,6}',string='manindersinghofficial235@gmail.com and gill16@gmail.com')"
   ]
  },
  {
   "cell_type": "code",
   "execution_count": 33,
   "id": "feb7034f-0cca-48e4-88d8-07ae927f075e",
   "metadata": {},
   "outputs": [],
   "source": [
    "patt2='^[A-Za-z0-9]{6,}$'\n"
   ]
  },
  {
   "cell_type": "code",
   "execution_count": 36,
   "id": "96bc15c6-81b3-44ce-8a28-046fb0ca86c7",
   "metadata": {},
   "outputs": [],
   "source": [
    "str2='Mani1234, and rajkumar78 ,and @komalpreet'"
   ]
  },
  {
   "cell_type": "code",
   "execution_count": 38,
   "id": "c7d33183-6933-4ac9-a622-8af2e5998f22",
   "metadata": {},
   "outputs": [
    {
     "data": {
      "text/plain": [
       "[]"
      ]
     },
     "execution_count": 38,
     "metadata": {},
     "output_type": "execute_result"
    }
   ],
   "source": [
    "regex.findall(pattern='^[A-Za-z0-9]{6,}$',string=str2)"
   ]
  },
  {
   "cell_type": "code",
   "execution_count": null,
   "id": "b74766b5-1e5d-47d2-97ea-6313c1f7c623",
   "metadata": {},
   "outputs": [],
   "source": []
  }
 ],
 "metadata": {
  "kernelspec": {
   "display_name": "Python 3 (ipykernel)",
   "language": "python",
   "name": "python3"
  },
  "language_info": {
   "codemirror_mode": {
    "name": "ipython",
    "version": 3
   },
   "file_extension": ".py",
   "mimetype": "text/x-python",
   "name": "python",
   "nbconvert_exporter": "python",
   "pygments_lexer": "ipython3",
   "version": "3.12.10"
  }
 },
 "nbformat": 4,
 "nbformat_minor": 5
}
