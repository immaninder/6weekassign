{
 "cells": [
  {
   "cell_type": "code",
   "execution_count": 2,
   "id": "5def9118-5f6b-4019-a315-7e8a35ac6ea8",
   "metadata": {},
   "outputs": [],
   "source": [
    "import pandas as pd "
   ]
  },
  {
   "cell_type": "code",
   "execution_count": 3,
   "id": "10bc2999-b534-40fc-bd07-a13a64cc810c",
   "metadata": {},
   "outputs": [],
   "source": [
    " data = pd.Series([100, 200, 300, 400], index=['x', 'y', 'z', 'w'])  \n"
   ]
  },
  {
   "cell_type": "code",
   "execution_count": 4,
   "id": "ae9f7c12-b1db-45b8-b824-b2a4847e86c4",
   "metadata": {},
   "outputs": [
    {
     "data": {
      "text/plain": [
       "x    100\n",
       "y    200\n",
       "z    300\n",
       "w    400\n",
       "dtype: int64"
      ]
     },
     "execution_count": 4,
     "metadata": {},
     "output_type": "execute_result"
    }
   ],
   "source": [
    "data"
   ]
  },
  {
   "cell_type": "code",
   "execution_count": 6,
   "id": "eaf9a091-6540-4052-b171-fb6b1e5955a0",
   "metadata": {},
   "outputs": [
    {
     "data": {
      "text/plain": [
       "np.int64(200)"
      ]
     },
     "execution_count": 6,
     "metadata": {},
     "output_type": "execute_result"
    }
   ],
   "source": [
    "#Question1\n",
    "data.loc['y']"
   ]
  },
  {
   "cell_type": "code",
   "execution_count": 7,
   "id": "2bb56b3e-7b9f-4818-a009-47044d4251a2",
   "metadata": {},
   "outputs": [
    {
     "data": {
      "text/plain": [
       "np.int64(200)"
      ]
     },
     "execution_count": 7,
     "metadata": {},
     "output_type": "execute_result"
    }
   ],
   "source": [
    "#Question2\n",
    "data.iloc[1]"
   ]
  },
  {
   "cell_type": "code",
   "execution_count": 11,
   "id": "09a0b731-67de-4733-a30a-9f614425f47e",
   "metadata": {},
   "outputs": [
    {
     "data": {
      "text/plain": [
       "x    100\n",
       "w    400\n",
       "dtype: int64"
      ]
     },
     "execution_count": 11,
     "metadata": {},
     "output_type": "execute_result"
    }
   ],
   "source": [
    "#Question3\n",
    "data.loc[['x','w']]"
   ]
  },
  {
   "cell_type": "code",
   "execution_count": 12,
   "id": "7ecbf911-246b-452f-9d8e-02a6124c6f5f",
   "metadata": {},
   "outputs": [
    {
     "data": {
      "text/plain": [
       "np.int64(400)"
      ]
     },
     "execution_count": 12,
     "metadata": {},
     "output_type": "execute_result"
    }
   ],
   "source": [
    "#Question4\n",
    "data.iloc[-1]"
   ]
  },
  {
   "cell_type": "code",
   "execution_count": 13,
   "id": "4b343235-6d5e-4733-af60-7edcf9469cb5",
   "metadata": {},
   "outputs": [
    {
     "data": {
      "text/plain": [
       "y    200\n",
       "z    300\n",
       "dtype: int64"
      ]
     },
     "execution_count": 13,
     "metadata": {},
     "output_type": "execute_result"
    }
   ],
   "source": [
    "#Question5\n",
    "data.loc['y':'z']"
   ]
  },
  {
   "cell_type": "code",
   "execution_count": 15,
   "id": "8914d55d-2fb8-4408-a1f9-ba93b32e79eb",
   "metadata": {},
   "outputs": [],
   "source": [
    "#Question6\n",
    "#.iloc[2] gives us the value at third position , it looks at the position\n",
    "#loc[2] gives us the value whose index label is 2, it looks at the label not the position"
   ]
  },
  {
   "cell_type": "code",
   "execution_count": 14,
   "id": "19e4be28-9eae-4e3f-a649-c81d3b93f958",
   "metadata": {},
   "outputs": [
    {
     "data": {
      "text/plain": [
       "np.int64(100)"
      ]
     },
     "execution_count": 14,
     "metadata": {},
     "output_type": "execute_result"
    }
   ],
   "source": [
    "#Question7\n",
    "data.x"
   ]
  }
 ],
 "metadata": {
  "kernelspec": {
   "display_name": "Python 3 (ipykernel)",
   "language": "python",
   "name": "python3"
  },
  "language_info": {
   "codemirror_mode": {
    "name": "ipython",
    "version": 3
   },
   "file_extension": ".py",
   "mimetype": "text/x-python",
   "name": "python",
   "nbconvert_exporter": "python",
   "pygments_lexer": "ipython3",
   "version": "3.12.10"
  }
 },
 "nbformat": 4,
 "nbformat_minor": 5
}
