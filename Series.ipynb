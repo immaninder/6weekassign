{
 "cells": [
  {
   "cell_type": "code",
   "execution_count": 38,
   "id": "a6f8e621-ab9d-4cf6-8bfb-15b7b798c37a",
   "metadata": {},
   "outputs": [
    {
     "name": "stdout",
     "output_type": "stream",
     "text": [
      "Requirement already satisfied: pandas in c:\\users\\aaaa\\appdata\\local\\programs\\python\\python312\\lib\\site-packages (2.3.0)\n",
      "Requirement already satisfied: numpy>=1.26.0 in c:\\users\\aaaa\\appdata\\local\\programs\\python\\python312\\lib\\site-packages (from pandas) (2.3.1)\n",
      "Requirement already satisfied: python-dateutil>=2.8.2 in c:\\users\\aaaa\\appdata\\local\\programs\\python\\python312\\lib\\site-packages (from pandas) (2.9.0.post0)\n",
      "Requirement already satisfied: pytz>=2020.1 in c:\\users\\aaaa\\appdata\\local\\programs\\python\\python312\\lib\\site-packages (from pandas) (2025.2)\n",
      "Requirement already satisfied: tzdata>=2022.7 in c:\\users\\aaaa\\appdata\\local\\programs\\python\\python312\\lib\\site-packages (from pandas) (2025.2)\n",
      "Requirement already satisfied: six>=1.5 in c:\\users\\aaaa\\appdata\\local\\programs\\python\\python312\\lib\\site-packages (from python-dateutil>=2.8.2->pandas) (1.17.0)\n"
     ]
    }
   ],
   "source": [
    "! pip install pandas"
   ]
  },
  {
   "cell_type": "code",
   "execution_count": 39,
   "id": "045c62ce-742f-48be-9d6e-fd807e9e0a31",
   "metadata": {},
   "outputs": [],
   "source": [
    "import pandas as pd"
   ]
  },
  {
   "cell_type": "code",
   "execution_count": 40,
   "id": "9fe20b73-c6fd-4e6f-b01b-1b54e8a19e1c",
   "metadata": {},
   "outputs": [],
   "source": [
    "#### 2 types of data\n",
    "#1D data - Series(list and dictionaries)\n",
    "#2D date - Data frames \n",
    "#Series library "
   ]
  },
  {
   "cell_type": "code",
   "execution_count": 41,
   "id": "4191a87e-aa38-4e2d-a393-bfe16d411ebe",
   "metadata": {},
   "outputs": [
    {
     "data": {
      "text/plain": [
       "0    23\n",
       "1    34\n",
       "2    54\n",
       "3    65\n",
       "4    68\n",
       "dtype: int64"
      ]
     },
     "execution_count": 41,
     "metadata": {},
     "output_type": "execute_result"
    }
   ],
   "source": [
    "#how to make series using list\n",
    "ser1= pd.Series([23,34,54,65,68])\n",
    "ser1"
   ]
  },
  {
   "cell_type": "code",
   "execution_count": 44,
   "id": "f7b3e977-eca2-4f73-9402-ff51c403308d",
   "metadata": {},
   "outputs": [
    {
     "data": {
      "text/plain": [
       "0     0\n",
       "1     2\n",
       "2     4\n",
       "3     6\n",
       "4     8\n",
       "5    10\n",
       "6    12\n",
       "7    14\n",
       "8    16\n",
       "9    18\n",
       "dtype: int64"
      ]
     },
     "execution_count": 44,
     "metadata": {},
     "output_type": "execute_result"
    }
   ],
   "source": [
    "#series using list comprehension\n",
    "s1= pd.Series([i for i in range(20) if i%2==0])\n",
    "s1\n",
    "\n",
    "\n",
    "\n",
    "\n",
    "\n",
    "\n",
    "\n",
    "\n",
    "               "
   ]
  },
  {
   "cell_type": "code",
   "execution_count": 42,
   "id": "7380c90b-c29c-4088-9f41-8175aebe5051",
   "metadata": {},
   "outputs": [
    {
     "data": {
      "text/plain": [
       "1    12\n",
       "2    23\n",
       "3    45\n",
       "4    50\n",
       "dtype: int64"
      ]
     },
     "execution_count": 42,
     "metadata": {},
     "output_type": "execute_result"
    }
   ],
   "source": [
    "#index can be given by the user also \n",
    "ser2= pd.Series([12,23,45,50],index=[1,2,3,4])\n",
    "ser2\n"
   ]
  },
  {
   "cell_type": "code",
   "execution_count": 45,
   "id": "75fb2f9c-282e-4fb0-95b3-aef79d497394",
   "metadata": {},
   "outputs": [
    {
     "data": {
      "text/plain": [
       "0     0\n",
       "1     2\n",
       "2     4\n",
       "3     6\n",
       "4     8\n",
       "5    10\n",
       "6    12\n",
       "7    14\n",
       "8    16\n",
       "9    18\n",
       "dtype: int64"
      ]
     },
     "execution_count": 45,
     "metadata": {},
     "output_type": "execute_result"
    }
   ],
   "source": [
    "s1"
   ]
  },
  {
   "cell_type": "code",
   "execution_count": 46,
   "id": "b858f989-aa5e-4984-a49c-dfe8359815f6",
   "metadata": {},
   "outputs": [],
   "source": [
    "# head function - to access first five elements of series by default or mention in box"
   ]
  },
  {
   "cell_type": "code",
   "execution_count": 47,
   "id": "dba841c5-6c1b-4edb-ab61-9ab95d0b2dd6",
   "metadata": {},
   "outputs": [
    {
     "data": {
      "text/plain": [
       "0    0\n",
       "1    2\n",
       "2    4\n",
       "3    6\n",
       "4    8\n",
       "dtype: int64"
      ]
     },
     "execution_count": 47,
     "metadata": {},
     "output_type": "execute_result"
    }
   ],
   "source": [
    "s1.head()"
   ]
  },
  {
   "cell_type": "code",
   "execution_count": 48,
   "id": "5cd9ef21-57f9-4884-ace7-b92d83af7ab6",
   "metadata": {},
   "outputs": [
    {
     "data": {
      "text/plain": [
       "0    0\n",
       "1    2\n",
       "2    4\n",
       "dtype: int64"
      ]
     },
     "execution_count": 48,
     "metadata": {},
     "output_type": "execute_result"
    }
   ],
   "source": [
    "s1.head(3)"
   ]
  },
  {
   "cell_type": "code",
   "execution_count": 49,
   "id": "3d71a4b9-b277-45a4-8259-70f9cb464a02",
   "metadata": {},
   "outputs": [],
   "source": [
    "#tail function - to access values from last and by default 5"
   ]
  },
  {
   "cell_type": "code",
   "execution_count": 50,
   "id": "68a0491d-8e6f-43e3-945e-21aeeb6f9577",
   "metadata": {},
   "outputs": [],
   "source": [
    "#index by default - positions \n",
    "#index given by user - index "
   ]
  },
  {
   "cell_type": "code",
   "execution_count": 53,
   "id": "c90c3b7c-705d-4dc4-b235-3517c2fba5f1",
   "metadata": {},
   "outputs": [],
   "source": [
    "# Access elements from series without head - using square bracket(used with both numbers and alphabet) or dot(used with alphabet index only) "
   ]
  },
  {
   "cell_type": "code",
   "execution_count": 52,
   "id": "3d72d296-e58e-474c-9b30-ce21f3679abd",
   "metadata": {},
   "outputs": [
    {
     "data": {
      "text/plain": [
       "0    0\n",
       "1    2\n",
       "2    4\n",
       "dtype: int64"
      ]
     },
     "execution_count": 52,
     "metadata": {},
     "output_type": "execute_result"
    }
   ],
   "source": [
    "s1[:3]"
   ]
  },
  {
   "cell_type": "code",
   "execution_count": 54,
   "id": "618ba033-5a6b-44e4-998e-b37774d1a4fd",
   "metadata": {},
   "outputs": [
    {
     "data": {
      "text/plain": [
       "1    12\n",
       "2    23\n",
       "3    45\n",
       "4    50\n",
       "dtype: int64"
      ]
     },
     "execution_count": 54,
     "metadata": {},
     "output_type": "execute_result"
    }
   ],
   "source": [
    "ser2"
   ]
  },
  {
   "cell_type": "code",
   "execution_count": 56,
   "id": "fe590dc0-37a9-4958-8153-8173fc78d15d",
   "metadata": {},
   "outputs": [
    {
     "data": {
      "text/plain": [
       "a    12\n",
       "b    23\n",
       "c    45\n",
       "d    60\n",
       "dtype: int64"
      ]
     },
     "execution_count": 56,
     "metadata": {},
     "output_type": "execute_result"
    }
   ],
   "source": [
    "ser4= pd.Series([12,23,45,60],index=['a','b','c','d'])\n",
    "ser4"
   ]
  },
  {
   "cell_type": "code",
   "execution_count": 57,
   "id": "f03d23a7-3341-4eee-827a-67621ec4018c",
   "metadata": {},
   "outputs": [
    {
     "data": {
      "text/plain": [
       "np.int64(12)"
      ]
     },
     "execution_count": 57,
     "metadata": {},
     "output_type": "execute_result"
    }
   ],
   "source": [
    "ser4.a"
   ]
  },
  {
   "cell_type": "code",
   "execution_count": 59,
   "id": "654b50fe-10f8-45f7-a668-2938f8928184",
   "metadata": {},
   "outputs": [
    {
     "data": {
      "text/plain": [
       "np.int64(12)"
      ]
     },
     "execution_count": 59,
     "metadata": {},
     "output_type": "execute_result"
    }
   ],
   "source": [
    "ser4.a"
   ]
  },
  {
   "cell_type": "code",
   "execution_count": 62,
   "id": "5230af1e-6628-4602-971a-2c0d838a949c",
   "metadata": {},
   "outputs": [],
   "source": [
    "# loc(used for labels given by useror by default) and iloc(index location) function(by default)- to access elements"
   ]
  },
  {
   "cell_type": "code",
   "execution_count": 64,
   "id": "5f288d83-313f-4132-b660-a42ce249e408",
   "metadata": {},
   "outputs": [
    {
     "data": {
      "text/plain": [
       "1    34\n",
       "2    54\n",
       "3    65\n",
       "dtype: int64"
      ]
     },
     "execution_count": 64,
     "metadata": {},
     "output_type": "execute_result"
    }
   ],
   "source": [
    "ser1.loc[1:3]"
   ]
  },
  {
   "cell_type": "code",
   "execution_count": 65,
   "id": "65f9cd5d-6f54-4bce-a385-38f9115f7692",
   "metadata": {},
   "outputs": [
    {
     "data": {
      "text/plain": [
       "a    12\n",
       "b    23\n",
       "c    45\n",
       "d    60\n",
       "dtype: int64"
      ]
     },
     "execution_count": 65,
     "metadata": {},
     "output_type": "execute_result"
    }
   ],
   "source": [
    "ser4"
   ]
  },
  {
   "cell_type": "code",
   "execution_count": 66,
   "id": "ee21c25c-a472-4c70-9c2f-69c1983258c5",
   "metadata": {},
   "outputs": [
    {
     "data": {
      "text/plain": [
       "a    12\n",
       "b    23\n",
       "c    45\n",
       "dtype: int64"
      ]
     },
     "execution_count": 66,
     "metadata": {},
     "output_type": "execute_result"
    }
   ],
   "source": [
    "ser4.iloc[:3]"
   ]
  },
  {
   "cell_type": "code",
   "execution_count": 67,
   "id": "b176fe65-2a7c-4865-8c06-df7553b35926",
   "metadata": {},
   "outputs": [
    {
     "data": {
      "text/plain": [
       "(4,)"
      ]
     },
     "execution_count": 67,
     "metadata": {},
     "output_type": "execute_result"
    }
   ],
   "source": [
    "# tells number of rows and columns \n",
    "ser4.shape"
   ]
  },
  {
   "cell_type": "code",
   "execution_count": 71,
   "id": "1c6fe72c-6fab-4234-9cbe-1651eed9a027",
   "metadata": {},
   "outputs": [
    {
     "data": {
      "text/plain": [
       "np.int64(68)"
      ]
     },
     "execution_count": 71,
     "metadata": {},
     "output_type": "execute_result"
    }
   ],
   "source": [
    "# find maximum value \n",
    "ser1.max()"
   ]
  },
  {
   "cell_type": "code",
   "execution_count": 69,
   "id": "552aa223-3f3a-4f1e-a247-e4be007663fc",
   "metadata": {},
   "outputs": [
    {
     "data": {
      "text/plain": [
       "np.int64(23)"
      ]
     },
     "execution_count": 69,
     "metadata": {},
     "output_type": "execute_result"
    }
   ],
   "source": [
    "#find minimum value \n",
    "ser1.min()"
   ]
  },
  {
   "cell_type": "code",
   "execution_count": 70,
   "id": "6c4467ca-b7f5-41bb-b27e-69ebfac9394a",
   "metadata": {},
   "outputs": [
    {
     "data": {
      "text/plain": [
       "np.float64(48.8)"
      ]
     },
     "execution_count": 70,
     "metadata": {},
     "output_type": "execute_result"
    }
   ],
   "source": [
    "#find mean of the series \n",
    "ser1.mean()"
   ]
  },
  {
   "cell_type": "code",
   "execution_count": 1,
   "id": "b431af88-d056-4f68-9565-dee3b3396e5f",
   "metadata": {},
   "outputs": [],
   "source": [
    "#at -- used to access single element"
   ]
  },
  {
   "cell_type": "code",
   "execution_count": 2,
   "id": "6af8924a-63cc-4479-9123-a9a132d602f2",
   "metadata": {},
   "outputs": [],
   "source": [
    "# series using dictionary"
   ]
  },
  {
   "cell_type": "code",
   "execution_count": 13,
   "id": "863284fd-c5a0-4bc3-8e01-b529bf705633",
   "metadata": {},
   "outputs": [
    {
     "data": {
      "text/plain": [
       "name     Mani\n",
       "marks      10\n",
       "dtype: object"
      ]
     },
     "execution_count": 13,
     "metadata": {},
     "output_type": "execute_result"
    }
   ],
   "source": [
    "s5= pd.Series({'name':'Mani','marks':10})\n",
    "s5"
   ]
  },
  {
   "cell_type": "code",
   "execution_count": 14,
   "id": "4b377487-af9e-419b-b3f5-ac88ad74554e",
   "metadata": {},
   "outputs": [],
   "source": [
    "#conditions on series "
   ]
  },
  {
   "cell_type": "code",
   "execution_count": 15,
   "id": "810ab0e8-efa5-4b65-b206-ffc0382fc57d",
   "metadata": {},
   "outputs": [
    {
     "data": {
      "text/plain": [
       "0    23\n",
       "1    34\n",
       "2    67\n",
       "3    80\n",
       "4    66\n",
       "5    54\n",
       "6    45\n",
       "7    61\n",
       "dtype: int64"
      ]
     },
     "execution_count": 15,
     "metadata": {},
     "output_type": "execute_result"
    }
   ],
   "source": [
    "s=pd.Series([23,34,67,80,66,54,45,61])\n",
    "s"
   ]
  },
  {
   "cell_type": "code",
   "execution_count": 16,
   "id": "42154a81-3203-4e62-9cd5-19646258d5e5",
   "metadata": {},
   "outputs": [
    {
     "data": {
      "text/plain": [
       "0    False\n",
       "1    False\n",
       "2     True\n",
       "3     True\n",
       "4     True\n",
       "5     True\n",
       "6     True\n",
       "7     True\n",
       "dtype: bool"
      ]
     },
     "execution_count": 16,
     "metadata": {},
     "output_type": "execute_result"
    }
   ],
   "source": [
    "s>40 #to check number greater than 40"
   ]
  },
  {
   "cell_type": "code",
   "execution_count": 17,
   "id": "a098cd65-e591-488b-999a-f70b60466106",
   "metadata": {},
   "outputs": [
    {
     "data": {
      "text/plain": [
       "0    False\n",
       "1    False\n",
       "2     True\n",
       "3    False\n",
       "4     True\n",
       "5     True\n",
       "6     True\n",
       "7     True\n",
       "dtype: bool"
      ]
     },
     "execution_count": 17,
     "metadata": {},
     "output_type": "execute_result"
    }
   ],
   "source": [
    "(s>40) & (s<70)# use two conditions"
   ]
  },
  {
   "cell_type": "code",
   "execution_count": 19,
   "id": "2fed9b41-57d8-4aa1-888e-1e952ccc9bd3",
   "metadata": {},
   "outputs": [
    {
     "data": {
      "text/plain": [
       "2    67\n",
       "4    66\n",
       "5    54\n",
       "6    45\n",
       "7    61\n",
       "dtype: int64"
      ]
     },
     "execution_count": 19,
     "metadata": {},
     "output_type": "execute_result"
    }
   ],
   "source": [
    "s[(s>40) & (s<70)] # to print values which are true "
   ]
  },
  {
   "cell_type": "code",
   "execution_count": 20,
   "id": "81f716b6-e8e2-448e-9297-6165b30e97c9",
   "metadata": {},
   "outputs": [
    {
     "data": {
      "text/plain": [
       "0    False\n",
       "1    False\n",
       "2     True\n",
       "3    False\n",
       "4     True\n",
       "5     True\n",
       "6     True\n",
       "7     True\n",
       "dtype: bool"
      ]
     },
     "execution_count": 20,
     "metadata": {},
     "output_type": "execute_result"
    }
   ],
   "source": [
    "s.between(40,70) #  function to check number between 40 and 70 "
   ]
  },
  {
   "cell_type": "code",
   "execution_count": 21,
   "id": "f77ee13d-b07d-4f85-80e1-5b10caa16e65",
   "metadata": {},
   "outputs": [
    {
     "data": {
      "text/plain": [
       "2    67\n",
       "4    66\n",
       "5    54\n",
       "6    45\n",
       "7    61\n",
       "dtype: int64"
      ]
     },
     "execution_count": 21,
     "metadata": {},
     "output_type": "execute_result"
    }
   ],
   "source": [
    "s[s.between(40,70)]"
   ]
  },
  {
   "cell_type": "code",
   "execution_count": 24,
   "id": "2fbe6f43-5e8c-4c26-b70c-e065516bffba",
   "metadata": {},
   "outputs": [],
   "source": [
    "# function - 'is in' -- find the place of a value  and index "
   ]
  },
  {
   "cell_type": "code",
   "execution_count": 26,
   "id": "0ec75395-662e-45dc-995d-c7735082408a",
   "metadata": {},
   "outputs": [
    {
     "data": {
      "text/plain": [
       "0    False\n",
       "1    False\n",
       "2    False\n",
       "3    False\n",
       "4     True\n",
       "5    False\n",
       "6    False\n",
       "7    False\n",
       "dtype: bool"
      ]
     },
     "execution_count": 26,
     "metadata": {},
     "output_type": "execute_result"
    }
   ],
   "source": [
    "s.isin([66])"
   ]
  },
  {
   "cell_type": "code",
   "execution_count": 27,
   "id": "67230e5f-8784-44d7-9b47-8163e4fef12c",
   "metadata": {},
   "outputs": [
    {
     "data": {
      "text/plain": [
       "4    66\n",
       "dtype: int64"
      ]
     },
     "execution_count": 27,
     "metadata": {},
     "output_type": "execute_result"
    }
   ],
   "source": [
    "s[s.isin([66])]"
   ]
  },
  {
   "cell_type": "code",
   "execution_count": 18,
   "id": "ce6d233e-55d4-486f-b9ab-94f311bffa96",
   "metadata": {},
   "outputs": [],
   "source": [
    "# NUMPY IS A LIBRARY WE USE TO FIND NULL VALUES "
   ]
  },
  {
   "cell_type": "code",
   "execution_count": 19,
   "id": "9d84bd8b-c225-4305-8d82-11be0ee6bf55",
   "metadata": {},
   "outputs": [],
   "source": [
    "import numpy as np \n",
    "import pandas as pd"
   ]
  },
  {
   "cell_type": "code",
   "execution_count": 20,
   "id": "108b2e8e-8b3a-4c99-88c8-853818519e7c",
   "metadata": {},
   "outputs": [
    {
     "data": {
      "text/plain": [
       "0    20.0\n",
       "1    34.0\n",
       "2     NaN\n",
       "3    60.0\n",
       "4     NaN\n",
       "dtype: float64"
      ]
     },
     "execution_count": 20,
     "metadata": {},
     "output_type": "execute_result"
    }
   ],
   "source": [
    "s= pd.Series([20,34,np.nan,60,np.nan])\n",
    "s"
   ]
  },
  {
   "cell_type": "code",
   "execution_count": 21,
   "id": "ee8e0fd5-f213-49d6-820d-e471736d52ad",
   "metadata": {},
   "outputs": [
    {
     "data": {
      "text/plain": [
       "2   NaN\n",
       "4   NaN\n",
       "dtype: float64"
      ]
     },
     "execution_count": 21,
     "metadata": {},
     "output_type": "execute_result"
    }
   ],
   "source": [
    "s[s.isnull()] # it returns null values ---- isna() also do the same work"
   ]
  },
  {
   "cell_type": "code",
   "execution_count": 22,
   "id": "7ecc09d0-e74a-4b56-b0fe-64dbf254ccea",
   "metadata": {},
   "outputs": [
    {
     "data": {
      "text/plain": [
       "True"
      ]
     },
     "execution_count": 22,
     "metadata": {},
     "output_type": "execute_result"
    }
   ],
   "source": [
    "s.hasnans # it tell does it contain null value or not , only used in series not in data frames"
   ]
  },
  {
   "cell_type": "code",
   "execution_count": 23,
   "id": "fe84b61a-a4ef-46bc-b80a-514de2383ec3",
   "metadata": {},
   "outputs": [],
   "source": [
    "# how to fill nan values "
   ]
  },
  {
   "cell_type": "code",
   "execution_count": 24,
   "id": "a23c0326-085c-45f9-88b8-3ed7a958b0b0",
   "metadata": {},
   "outputs": [
    {
     "data": {
      "text/plain": [
       "0    20.0\n",
       "1    34.0\n",
       "2     2.0\n",
       "3    60.0\n",
       "4     2.0\n",
       "dtype: float64"
      ]
     },
     "execution_count": 24,
     "metadata": {},
     "output_type": "execute_result"
    }
   ],
   "source": [
    "s.fillna(2) # to fill nan values we use this function "
   ]
  },
  {
   "cell_type": "code",
   "execution_count": 25,
   "id": "fe439135-0ad2-43ec-98af-b6e60177e47b",
   "metadata": {},
   "outputs": [
    {
     "data": {
      "text/plain": [
       "0    20.0\n",
       "1    34.0\n",
       "2     NaN\n",
       "3    60.0\n",
       "4     NaN\n",
       "dtype: float64"
      ]
     },
     "execution_count": 25,
     "metadata": {},
     "output_type": "execute_result"
    }
   ],
   "source": [
    "s"
   ]
  },
  {
   "cell_type": "code",
   "execution_count": null,
   "id": "36afae4c-26c8-4f29-b151-1dc4d6cd14fa",
   "metadata": {},
   "outputs": [],
   "source": [
    "# JE FUNCTION LAUNDE HI  NAAL HI OHDA ANSWER AAJAAVE TAA FER SERIES CH KOI CHANGE NI AAYAA "
   ]
  },
  {
   "cell_type": "code",
   "execution_count": 26,
   "id": "83e68fe4-ae37-4675-8660-e1b80ce5bcb3",
   "metadata": {},
   "outputs": [],
   "source": [
    "s7=pd.Series([34,33,21,np.nan])"
   ]
  },
  {
   "cell_type": "code",
   "execution_count": 28,
   "id": "d5f93f4a-04ea-4f61-b244-d1350493a6e6",
   "metadata": {},
   "outputs": [],
   "source": [
    "s7.fillna(12, inplace=True) # inplace is used to make change in the original series and fill the nan place"
   ]
  },
  {
   "cell_type": "code",
   "execution_count": 29,
   "id": "6817582b-e5ed-4f8a-b500-c942d327d7ff",
   "metadata": {},
   "outputs": [
    {
     "data": {
      "text/plain": [
       "0    34.0\n",
       "1    33.0\n",
       "2    21.0\n",
       "3    12.0\n",
       "dtype: float64"
      ]
     },
     "execution_count": 29,
     "metadata": {},
     "output_type": "execute_result"
    }
   ],
   "source": [
    "s7"
   ]
  },
  {
   "cell_type": "code",
   "execution_count": 31,
   "id": "fad42a79-83bf-4083-bea2-8a91aded44bf",
   "metadata": {},
   "outputs": [
    {
     "data": {
      "text/plain": [
       "0    12.0\n",
       "1    34.0\n",
       "2    56.0\n",
       "3     NaN\n",
       "4    11.0\n",
       "5    57.0\n",
       "dtype: float64"
      ]
     },
     "execution_count": 31,
     "metadata": {},
     "output_type": "execute_result"
    }
   ],
   "source": [
    "age=pd.Series([12,34,56,np.nan,11,57])\n",
    "age"
   ]
  },
  {
   "cell_type": "code",
   "execution_count": 32,
   "id": "8419af55-bf60-469e-8e46-7a1555ce8a52",
   "metadata": {},
   "outputs": [
    {
     "data": {
      "text/plain": [
       "0    12.0\n",
       "1    34.0\n",
       "2    56.0\n",
       "3    34.0\n",
       "4    11.0\n",
       "5    57.0\n",
       "dtype: float64"
      ]
     },
     "execution_count": 32,
     "metadata": {},
     "output_type": "execute_result"
    }
   ],
   "source": [
    "age.fillna(age.mean()) #JAD V KOI GROUP DATA DITAA HOVE JIVE KI AGE TAA APAA MEAN VALUE USE KARDE AA"
   ]
  },
  {
   "cell_type": "code",
   "execution_count": 35,
   "id": "75cde4f1-c3d9-4ae0-ba91-d6d090cd5971",
   "metadata": {},
   "outputs": [
    {
     "data": {
      "text/plain": [
       "0       Footwear\n",
       "1    Accessories\n",
       "2      Mens wear\n",
       "3        Watches\n",
       "4            NaN\n",
       "5       Footwear\n",
       "dtype: object"
      ]
     },
     "execution_count": 35,
     "metadata": {},
     "output_type": "execute_result"
    }
   ],
   "source": [
    "products=pd.Series(['Footwear','Accessories','Mens wear','Watches',np.nan,'Footwear'])# JAD V EHDA DA DATA HOVE TAA MODE FILL KRAAO SERIES CH\n",
    "products"
   ]
  },
  {
   "cell_type": "code",
   "execution_count": 36,
   "id": "2205c664-c0d6-41a4-9673-9ddc37207528",
   "metadata": {},
   "outputs": [
    {
     "data": {
      "text/plain": [
       "0       Footwear\n",
       "1    Accessories\n",
       "2      Mens wear\n",
       "3        Watches\n",
       "4       Footwear\n",
       "5       Footwear\n",
       "dtype: object"
      ]
     },
     "execution_count": 36,
     "metadata": {},
     "output_type": "execute_result"
    }
   ],
   "source": [
    "products.fillna(products.mode()[0]) # 0 PAAYAA KYUNKI DO VALUES MODE AA RHIAA AA SI TAA APAA OHNA CHO IK SELECT KITI FILL KARAN LYI"
   ]
  },
  {
   "cell_type": "code",
   "execution_count": 37,
   "id": "d77f1bea-a753-4972-b542-c08160c4e95a",
   "metadata": {},
   "outputs": [
    {
     "data": {
      "text/plain": [
       "count     4.000000\n",
       "mean     25.000000\n",
       "std      10.488088\n",
       "min      12.000000\n",
       "25%      18.750000\n",
       "50%      27.000000\n",
       "75%      33.250000\n",
       "max      34.000000\n",
       "dtype: float64"
      ]
     },
     "execution_count": 37,
     "metadata": {},
     "output_type": "execute_result"
    }
   ],
   "source": [
    "s7.describe() # Function of series "
   ]
  },
  {
   "cell_type": "code",
   "execution_count": 38,
   "id": "ab7ceca8-101e-4573-bb55-46a798ee1252",
   "metadata": {},
   "outputs": [
    {
     "data": {
      "text/plain": [
       "0    Shoes\n",
       "1      NaN\n",
       "2      NaN\n",
       "3      NaN\n",
       "4      NaN\n",
       "5    Shoes\n",
       "dtype: object"
      ]
     },
     "execution_count": 38,
     "metadata": {},
     "output_type": "execute_result"
    }
   ],
   "source": [
    "products.map({'Footwear':'Shoes'}) # KISI PARTICULAR PLACE TE CHANGE KARDA  PURI SERIES CH TRANSVERSE KARKE AA,  BUT EH ORIGINAL SERIES CH KOI CHANGE NI KAR SAKDA "
   ]
  },
  {
   "cell_type": "code",
   "execution_count": 43,
   "id": "00314daa-b9e4-4c6a-9196-28924c8c336c",
   "metadata": {},
   "outputs": [],
   "source": [
    "s9=pd.Series([34,56,34,78,90,78,56,10])\n"
   ]
  },
  {
   "cell_type": "code",
   "execution_count": 44,
   "id": "9b88e2bc-5adb-4495-a69f-c89c7168546f",
   "metadata": {},
   "outputs": [
    {
     "data": {
      "text/plain": [
       "array([34, 56, 78, 90, 10])"
      ]
     },
     "execution_count": 44,
     "metadata": {},
     "output_type": "execute_result"
    }
   ],
   "source": [
    "s9.unique() # gives unique values as output"
   ]
  },
  {
   "cell_type": "code",
   "execution_count": 47,
   "id": "f559b51a-9277-4b05-a87f-1434b84ac6a7",
   "metadata": {},
   "outputs": [
    {
     "data": {
      "text/plain": [
       "False"
      ]
     },
     "execution_count": 47,
     "metadata": {},
     "output_type": "execute_result"
    }
   ],
   "source": [
    "s9.is_unique  # it gives output true if series only have unique values and false if it contains repeated values"
   ]
  },
  {
   "cell_type": "code",
   "execution_count": 48,
   "id": "c68deefa-41f6-4914-9657-ce0ff79da9a4",
   "metadata": {},
   "outputs": [
    {
     "data": {
      "text/plain": [
       "True"
      ]
     },
     "execution_count": 48,
     "metadata": {},
     "output_type": "execute_result"
    }
   ],
   "source": [
    "s3=pd.Series([33,45,67])\n",
    "s3.is_unique"
   ]
  },
  {
   "cell_type": "code",
   "execution_count": null,
   "id": "b00351d6-5686-495c-8505-790692a1c8dd",
   "metadata": {},
   "outputs": [],
   "source": []
  }
 ],
 "metadata": {
  "kernelspec": {
   "display_name": "Python 3 (ipykernel)",
   "language": "python",
   "name": "python3"
  },
  "language_info": {
   "codemirror_mode": {
    "name": "ipython",
    "version": 3
   },
   "file_extension": ".py",
   "mimetype": "text/x-python",
   "name": "python",
   "nbconvert_exporter": "python",
   "pygments_lexer": "ipython3",
   "version": "3.12.10"
  }
 },
 "nbformat": 4,
 "nbformat_minor": 5
}
