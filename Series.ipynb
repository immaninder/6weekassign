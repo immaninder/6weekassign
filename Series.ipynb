{
 "cells": [
  {
   "cell_type": "code",
   "execution_count": 38,
   "id": "a6f8e621-ab9d-4cf6-8bfb-15b7b798c37a",
   "metadata": {},
   "outputs": [
    {
     "name": "stdout",
     "output_type": "stream",
     "text": [
      "Requirement already satisfied: pandas in c:\\users\\aaaa\\appdata\\local\\programs\\python\\python312\\lib\\site-packages (2.3.0)\n",
      "Requirement already satisfied: numpy>=1.26.0 in c:\\users\\aaaa\\appdata\\local\\programs\\python\\python312\\lib\\site-packages (from pandas) (2.3.1)\n",
      "Requirement already satisfied: python-dateutil>=2.8.2 in c:\\users\\aaaa\\appdata\\local\\programs\\python\\python312\\lib\\site-packages (from pandas) (2.9.0.post0)\n",
      "Requirement already satisfied: pytz>=2020.1 in c:\\users\\aaaa\\appdata\\local\\programs\\python\\python312\\lib\\site-packages (from pandas) (2025.2)\n",
      "Requirement already satisfied: tzdata>=2022.7 in c:\\users\\aaaa\\appdata\\local\\programs\\python\\python312\\lib\\site-packages (from pandas) (2025.2)\n",
      "Requirement already satisfied: six>=1.5 in c:\\users\\aaaa\\appdata\\local\\programs\\python\\python312\\lib\\site-packages (from python-dateutil>=2.8.2->pandas) (1.17.0)\n"
     ]
    }
   ],
   "source": [
    "! pip install pandas"
   ]
  },
  {
   "cell_type": "code",
   "execution_count": 39,
   "id": "045c62ce-742f-48be-9d6e-fd807e9e0a31",
   "metadata": {},
   "outputs": [],
   "source": [
    "import pandas as pd"
   ]
  },
  {
   "cell_type": "code",
   "execution_count": 40,
   "id": "9fe20b73-c6fd-4e6f-b01b-1b54e8a19e1c",
   "metadata": {},
   "outputs": [],
   "source": [
    "#### 2 types of data\n",
    "#Series library "
   ]
  },
  {
   "cell_type": "code",
   "execution_count": 41,
   "id": "4191a87e-aa38-4e2d-a393-bfe16d411ebe",
   "metadata": {},
   "outputs": [
    {
     "data": {
      "text/plain": [
       "0    23\n",
       "1    34\n",
       "2    54\n",
       "3    65\n",
       "4    68\n",
       "dtype: int64"
      ]
     },
     "execution_count": 41,
     "metadata": {},
     "output_type": "execute_result"
    }
   ],
   "source": [
    "#how to make series using list\n",
    "ser1= pd.Series([23,34,54,65,68])\n",
    "ser1"
   ]
  },
  {
   "cell_type": "code",
   "execution_count": 44,
   "id": "f7b3e977-eca2-4f73-9402-ff51c403308d",
   "metadata": {},
   "outputs": [
    {
     "data": {
      "text/plain": [
       "0     0\n",
       "1     2\n",
       "2     4\n",
       "3     6\n",
       "4     8\n",
       "5    10\n",
       "6    12\n",
       "7    14\n",
       "8    16\n",
       "9    18\n",
       "dtype: int64"
      ]
     },
     "execution_count": 44,
     "metadata": {},
     "output_type": "execute_result"
    }
   ],
   "source": [
    "#series using list comprehension\n",
    "s1= pd.Series([i for i in range(20) if i%2==0])\n",
    "s1\n",
    "\n",
    "\n",
    "\n",
    "\n",
    "\n",
    "\n",
    "\n",
    "\n",
    "               "
   ]
  },
  {
   "cell_type": "code",
   "execution_count": 42,
   "id": "7380c90b-c29c-4088-9f41-8175aebe5051",
   "metadata": {},
   "outputs": [
    {
     "data": {
      "text/plain": [
       "1    12\n",
       "2    23\n",
       "3    45\n",
       "4    50\n",
       "dtype: int64"
      ]
     },
     "execution_count": 42,
     "metadata": {},
     "output_type": "execute_result"
    }
   ],
   "source": [
    "#index can be given by the user also \n",
    "ser2= pd.Series([12,23,45,50],index=[1,2,3,4])\n",
    "ser2\n"
   ]
  },
  {
   "cell_type": "code",
   "execution_count": 45,
   "id": "75fb2f9c-282e-4fb0-95b3-aef79d497394",
   "metadata": {},
   "outputs": [
    {
     "data": {
      "text/plain": [
       "0     0\n",
       "1     2\n",
       "2     4\n",
       "3     6\n",
       "4     8\n",
       "5    10\n",
       "6    12\n",
       "7    14\n",
       "8    16\n",
       "9    18\n",
       "dtype: int64"
      ]
     },
     "execution_count": 45,
     "metadata": {},
     "output_type": "execute_result"
    }
   ],
   "source": [
    "s1"
   ]
  },
  {
   "cell_type": "code",
   "execution_count": 46,
   "id": "b858f989-aa5e-4984-a49c-dfe8359815f6",
   "metadata": {},
   "outputs": [],
   "source": [
    "# head function - to access first five elements of series by default or mention in box"
   ]
  },
  {
   "cell_type": "code",
   "execution_count": 47,
   "id": "dba841c5-6c1b-4edb-ab61-9ab95d0b2dd6",
   "metadata": {},
   "outputs": [
    {
     "data": {
      "text/plain": [
       "0    0\n",
       "1    2\n",
       "2    4\n",
       "3    6\n",
       "4    8\n",
       "dtype: int64"
      ]
     },
     "execution_count": 47,
     "metadata": {},
     "output_type": "execute_result"
    }
   ],
   "source": [
    "s1.head()"
   ]
  },
  {
   "cell_type": "code",
   "execution_count": 48,
   "id": "5cd9ef21-57f9-4884-ace7-b92d83af7ab6",
   "metadata": {},
   "outputs": [
    {
     "data": {
      "text/plain": [
       "0    0\n",
       "1    2\n",
       "2    4\n",
       "dtype: int64"
      ]
     },
     "execution_count": 48,
     "metadata": {},
     "output_type": "execute_result"
    }
   ],
   "source": [
    "s1.head(3)"
   ]
  },
  {
   "cell_type": "code",
   "execution_count": 49,
   "id": "3d71a4b9-b277-45a4-8259-70f9cb464a02",
   "metadata": {},
   "outputs": [],
   "source": [
    "#tail function - to access values from last and by default 5"
   ]
  },
  {
   "cell_type": "code",
   "execution_count": 50,
   "id": "68a0491d-8e6f-43e3-945e-21aeeb6f9577",
   "metadata": {},
   "outputs": [],
   "source": [
    "#index by default - positions \n",
    "#index given by user - index "
   ]
  },
  {
   "cell_type": "code",
   "execution_count": 53,
   "id": "c90c3b7c-705d-4dc4-b235-3517c2fba5f1",
   "metadata": {},
   "outputs": [],
   "source": [
    "# Access elements from series without head - using square bracket(used with both numbers and alphabet) or dot(used with alphabet index only) "
   ]
  },
  {
   "cell_type": "code",
   "execution_count": 52,
   "id": "3d72d296-e58e-474c-9b30-ce21f3679abd",
   "metadata": {},
   "outputs": [
    {
     "data": {
      "text/plain": [
       "0    0\n",
       "1    2\n",
       "2    4\n",
       "dtype: int64"
      ]
     },
     "execution_count": 52,
     "metadata": {},
     "output_type": "execute_result"
    }
   ],
   "source": [
    "s1[:3]"
   ]
  },
  {
   "cell_type": "code",
   "execution_count": 54,
   "id": "618ba033-5a6b-44e4-998e-b37774d1a4fd",
   "metadata": {},
   "outputs": [
    {
     "data": {
      "text/plain": [
       "1    12\n",
       "2    23\n",
       "3    45\n",
       "4    50\n",
       "dtype: int64"
      ]
     },
     "execution_count": 54,
     "metadata": {},
     "output_type": "execute_result"
    }
   ],
   "source": [
    "ser2"
   ]
  },
  {
   "cell_type": "code",
   "execution_count": 56,
   "id": "fe590dc0-37a9-4958-8153-8173fc78d15d",
   "metadata": {},
   "outputs": [
    {
     "data": {
      "text/plain": [
       "a    12\n",
       "b    23\n",
       "c    45\n",
       "d    60\n",
       "dtype: int64"
      ]
     },
     "execution_count": 56,
     "metadata": {},
     "output_type": "execute_result"
    }
   ],
   "source": [
    "ser4= pd.Series([12,23,45,60],index=['a','b','c','d'])\n",
    "ser4"
   ]
  },
  {
   "cell_type": "code",
   "execution_count": 57,
   "id": "f03d23a7-3341-4eee-827a-67621ec4018c",
   "metadata": {},
   "outputs": [
    {
     "data": {
      "text/plain": [
       "np.int64(12)"
      ]
     },
     "execution_count": 57,
     "metadata": {},
     "output_type": "execute_result"
    }
   ],
   "source": [
    "ser4.a"
   ]
  },
  {
   "cell_type": "code",
   "execution_count": 59,
   "id": "654b50fe-10f8-45f7-a668-2938f8928184",
   "metadata": {},
   "outputs": [
    {
     "data": {
      "text/plain": [
       "np.int64(12)"
      ]
     },
     "execution_count": 59,
     "metadata": {},
     "output_type": "execute_result"
    }
   ],
   "source": [
    "ser4.a"
   ]
  },
  {
   "cell_type": "code",
   "execution_count": 62,
   "id": "5230af1e-6628-4602-971a-2c0d838a949c",
   "metadata": {},
   "outputs": [],
   "source": [
    "# loc(used for labels given by useror by default) and iloc(index location) function(by default)- to access elements"
   ]
  },
  {
   "cell_type": "code",
   "execution_count": 64,
   "id": "5f288d83-313f-4132-b660-a42ce249e408",
   "metadata": {},
   "outputs": [
    {
     "data": {
      "text/plain": [
       "1    34\n",
       "2    54\n",
       "3    65\n",
       "dtype: int64"
      ]
     },
     "execution_count": 64,
     "metadata": {},
     "output_type": "execute_result"
    }
   ],
   "source": [
    "ser1.loc[1:3]"
   ]
  },
  {
   "cell_type": "code",
   "execution_count": 65,
   "id": "65f9cd5d-6f54-4bce-a385-38f9115f7692",
   "metadata": {},
   "outputs": [
    {
     "data": {
      "text/plain": [
       "a    12\n",
       "b    23\n",
       "c    45\n",
       "d    60\n",
       "dtype: int64"
      ]
     },
     "execution_count": 65,
     "metadata": {},
     "output_type": "execute_result"
    }
   ],
   "source": [
    "ser4"
   ]
  },
  {
   "cell_type": "code",
   "execution_count": 66,
   "id": "ee21c25c-a472-4c70-9c2f-69c1983258c5",
   "metadata": {},
   "outputs": [
    {
     "data": {
      "text/plain": [
       "a    12\n",
       "b    23\n",
       "c    45\n",
       "dtype: int64"
      ]
     },
     "execution_count": 66,
     "metadata": {},
     "output_type": "execute_result"
    }
   ],
   "source": [
    "ser4.iloc[:3]"
   ]
  },
  {
   "cell_type": "code",
   "execution_count": 67,
   "id": "b176fe65-2a7c-4865-8c06-df7553b35926",
   "metadata": {},
   "outputs": [
    {
     "data": {
      "text/plain": [
       "(4,)"
      ]
     },
     "execution_count": 67,
     "metadata": {},
     "output_type": "execute_result"
    }
   ],
   "source": [
    "# tells number of rows and columns \n",
    "ser4.shape"
   ]
  },
  {
   "cell_type": "code",
   "execution_count": 71,
   "id": "1c6fe72c-6fab-4234-9cbe-1651eed9a027",
   "metadata": {},
   "outputs": [
    {
     "data": {
      "text/plain": [
       "np.int64(68)"
      ]
     },
     "execution_count": 71,
     "metadata": {},
     "output_type": "execute_result"
    }
   ],
   "source": [
    "# find maximum value \n",
    "ser1.max()"
   ]
  },
  {
   "cell_type": "code",
   "execution_count": 69,
   "id": "552aa223-3f3a-4f1e-a247-e4be007663fc",
   "metadata": {},
   "outputs": [
    {
     "data": {
      "text/plain": [
       "np.int64(23)"
      ]
     },
     "execution_count": 69,
     "metadata": {},
     "output_type": "execute_result"
    }
   ],
   "source": [
    "#find minimum value \n",
    "ser1.min()"
   ]
  },
  {
   "cell_type": "code",
   "execution_count": 70,
   "id": "6c4467ca-b7f5-41bb-b27e-69ebfac9394a",
   "metadata": {},
   "outputs": [
    {
     "data": {
      "text/plain": [
       "np.float64(48.8)"
      ]
     },
     "execution_count": 70,
     "metadata": {},
     "output_type": "execute_result"
    }
   ],
   "source": [
    "#find mean of the series \n",
    "ser1.mean()"
   ]
  },
  {
   "cell_type": "code",
   "execution_count": null,
   "id": "b431af88-d056-4f68-9565-dee3b3396e5f",
   "metadata": {},
   "outputs": [],
   "source": []
  }
 ],
 "metadata": {
  "kernelspec": {
   "display_name": "Python 3 (ipykernel)",
   "language": "python",
   "name": "python3"
  },
  "language_info": {
   "codemirror_mode": {
    "name": "ipython",
    "version": 3
   },
   "file_extension": ".py",
   "mimetype": "text/x-python",
   "name": "python",
   "nbconvert_exporter": "python",
   "pygments_lexer": "ipython3",
   "version": "3.12.10"
  }
 },
 "nbformat": 4,
 "nbformat_minor": 5
}
