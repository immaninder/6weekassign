{
 "cells": [
  {
   "cell_type": "code",
   "execution_count": null,
   "id": "06900f30-a7b5-476c-8d6e-c9ed338a012f",
   "metadata": {},
   "outputs": [],
   "source": []
  }
 ],
 "metadata": {
  "kernelspec": {
   "display_name": "",
   "name": ""
  },
  "language_info": {
   "name": ""
  }
 },
 "nbformat": 4,
 "nbformat_minor": 5
}
